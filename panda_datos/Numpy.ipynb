{
 "cells": [
  {
   "cell_type": "markdown",
   "metadata": {},
   "source": [
    "# **Numpy**\n",
    "\n",
    "La documentación oficial de Numpy se encuentra publicada en la pagina: https://numpy.org\n"
   ]
  },
  {
   "cell_type": "code",
   "execution_count": 2,
   "metadata": {},
   "outputs": [],
   "source": [
    "import numpy as np\n",
    "\n",
    "# Importacion del paquete de numpay "
   ]
  },
  {
   "cell_type": "markdown",
   "metadata": {},
   "source": [
    "## **Array**\n",
    "\n",
    "Es un objeto que almacena la información de forma oredenada. Se caracteriza por se un tipo de datos idexado que permite acceder a los datos especificos de de forma rapida.\n",
    "\n",
    "\n",
    ">**Nota:** \n",
    "Para Numpy los array solo tienen un unico tipo de dato\n",
    "\n"
   ]
  },
  {
   "cell_type": "code",
   "execution_count": 4,
   "metadata": {},
   "outputs": [
    {
     "name": "stdout",
     "output_type": "stream",
     "text": [
      "<class 'numpy.ndarray'>\n",
      "[ 1  2  3  4  5  6  7  8  9 10]\n"
     ]
    }
   ],
   "source": [
    "lista = [1,2,3,4,5,6,7,8,9,10]\n",
    "array = np.array(lista)\n",
    "print(type(array))\n",
    "print(array)"
   ]
  },
  {
   "cell_type": "markdown",
   "metadata": {},
   "source": [
    "Para acceder a  algun valor del objeto tipo ndarray de numpy se realiza de forma similar a las listas de python considerando que la numeración de posición inicia desde cero (0).\n",
    "\n",
    "En igual sentido, desde numpy es posible acceder a multiples valores del array por medio del concepto de slicing"
   ]
  },
  {
   "cell_type": "code",
   "execution_count": 18,
   "metadata": {},
   "outputs": [
    {
     "name": "stdout",
     "output_type": "stream",
     "text": [
      "Suma de valores seleccionados del array = 8\n",
      "Todo el ARray desde la posicion 0 hasta la posicion 5-1, = [1 2 3 4 5]\n",
      "El ejemplo anterior se puede escribir de otra forma con el mismo resultado = [1 2 3 4 5]\n",
      "Todo el ARray desde la posicion 2 hasta la posicion 4 (5-1), = [3 4 5]\n",
      "Todo el ARray desde la posicion 0 hasta la posicion 7 (8-1), saltando de 2 en 2 = [1 3 5 7]\n",
      "Imprime el ultimo elemento del array = 10\n"
     ]
    }
   ],
   "source": [
    "valor01 = array[1]\n",
    "print(f\"Suma de valores seleccionados del array = {valor01 + array[5]}\")\n",
    "print(f\"Todo el ARray desde la posicion 0 hasta la posicion 5-1, = {array[0:5]}\")\n",
    "print(f\"El ejemplo anterior se puede escribir de otra forma con el mismo resultado = {array[:5]}\")\n",
    "print(f\"Todo el ARray desde la posicion 2 hasta la posicion 4 (5-1), = {array[2:5]}\")\n",
    "print(f\"Todo el ARray desde la posicion 0 hasta la posicion 7 (8-1), saltando de 2 en 2 = {array[:8:2]}\")\n",
    "print(f\"Imprime el ultimo elemento del array = {array[-1]}\")"
   ]
  },
  {
   "cell_type": "markdown",
   "metadata": {},
   "source": [
    "### np.arange(): Creando Array con numpy\n",
    "\n",
    "Numpy tiene incorporada una funcion para crear arays de forma nativa sin tener que recurrir a una lista muy similar a la funcion de python de range\n",
    "\n",
    "    array = np.arange(inicial, final, step)"
   ]
  },
  {
   "cell_type": "code",
   "execution_count": 51,
   "metadata": {},
   "outputs": [
    {
     "data": {
      "text/plain": [
       "array([0, 2, 4, 6, 8])"
      ]
     },
     "execution_count": 51,
     "metadata": {},
     "output_type": "execute_result"
    }
   ],
   "source": [
    "array = np.arange(0,10,2)\n",
    "array"
   ]
  },
  {
   "cell_type": "markdown",
   "metadata": {},
   "source": [
    "### np.zeros()\n",
    "\n",
    "Crea un array de ceros\n",
    "\n",
    "Con esta funcion se crean elementos (arreglos, matrices o tensores llenos de ceros)"
   ]
  },
  {
   "cell_type": "code",
   "execution_count": 53,
   "metadata": {},
   "outputs": [
    {
     "name": "stdout",
     "output_type": "stream",
     "text": [
      "[0. 0. 0. 0. 0. 0. 0. 0. 0. 0.]\n",
      "[[0. 0. 0. 0. 0. 0. 0. 0. 0. 0.]\n",
      " [0. 0. 0. 0. 0. 0. 0. 0. 0. 0.]\n",
      " [0. 0. 0. 0. 0. 0. 0. 0. 0. 0.]\n",
      " [0. 0. 0. 0. 0. 0. 0. 0. 0. 0.]\n",
      " [0. 0. 0. 0. 0. 0. 0. 0. 0. 0.]\n",
      " [0. 0. 0. 0. 0. 0. 0. 0. 0. 0.]\n",
      " [0. 0. 0. 0. 0. 0. 0. 0. 0. 0.]\n",
      " [0. 0. 0. 0. 0. 0. 0. 0. 0. 0.]\n",
      " [0. 0. 0. 0. 0. 0. 0. 0. 0. 0.]\n",
      " [0. 0. 0. 0. 0. 0. 0. 0. 0. 0.]]\n",
      "[[[0. 0.]\n",
      "  [0. 0.]]\n",
      "\n",
      " [[0. 0.]\n",
      "  [0. 0.]]]\n"
     ]
    }
   ],
   "source": [
    "ceros_dim1 = np.zeros(10)\n",
    "ceros_dim2 = np.zeros((10,10))\n",
    "ceros_dim3 = np.zeros((2,2,2))\n",
    "\n",
    "print(ceros_dim1)\n",
    "print(ceros_dim2)\n",
    "print(ceros_dim3)\n",
    "\n",
    "\n"
   ]
  },
  {
   "cell_type": "markdown",
   "metadata": {},
   "source": [
    "### np.ones() \n",
    "\n",
    "Crea elementos compuestos solo de unos"
   ]
  },
  {
   "cell_type": "code",
   "execution_count": 55,
   "metadata": {},
   "outputs": [
    {
     "name": "stdout",
     "output_type": "stream",
     "text": [
      "[1. 1. 1. 1. 1. 1. 1. 1. 1. 1.]\n",
      "[[1. 1. 1. 1. 1. 1. 1. 1. 1. 1.]\n",
      " [1. 1. 1. 1. 1. 1. 1. 1. 1. 1.]\n",
      " [1. 1. 1. 1. 1. 1. 1. 1. 1. 1.]\n",
      " [1. 1. 1. 1. 1. 1. 1. 1. 1. 1.]\n",
      " [1. 1. 1. 1. 1. 1. 1. 1. 1. 1.]\n",
      " [1. 1. 1. 1. 1. 1. 1. 1. 1. 1.]\n",
      " [1. 1. 1. 1. 1. 1. 1. 1. 1. 1.]\n",
      " [1. 1. 1. 1. 1. 1. 1. 1. 1. 1.]\n",
      " [1. 1. 1. 1. 1. 1. 1. 1. 1. 1.]\n",
      " [1. 1. 1. 1. 1. 1. 1. 1. 1. 1.]]\n",
      "[[[1. 1.]\n",
      "  [1. 1.]]\n",
      "\n",
      " [[1. 1.]\n",
      "  [1. 1.]]]\n"
     ]
    }
   ],
   "source": [
    "unos_dim1 = np.ones(10)\n",
    "unos_dim2 = np.ones((10,10))\n",
    "unos_dim3 = np.ones((2,2,2))\n",
    "\n",
    "print(unos_dim1)\n",
    "print(unos_dim2)\n",
    "print(unos_dim3)"
   ]
  },
  {
   "cell_type": "markdown",
   "metadata": {},
   "source": [
    "### np.linspaces\n",
    "\n",
    "Realiza una distribucion progresiva desde un limite inferior hasta un limite superior\n"
   ]
  },
  {
   "cell_type": "code",
   "execution_count": 57,
   "metadata": {},
   "outputs": [
    {
     "data": {
      "text/plain": [
       "array([ 0.        ,  0.1010101 ,  0.2020202 ,  0.3030303 ,  0.4040404 ,\n",
       "        0.50505051,  0.60606061,  0.70707071,  0.80808081,  0.90909091,\n",
       "        1.01010101,  1.11111111,  1.21212121,  1.31313131,  1.41414141,\n",
       "        1.51515152,  1.61616162,  1.71717172,  1.81818182,  1.91919192,\n",
       "        2.02020202,  2.12121212,  2.22222222,  2.32323232,  2.42424242,\n",
       "        2.52525253,  2.62626263,  2.72727273,  2.82828283,  2.92929293,\n",
       "        3.03030303,  3.13131313,  3.23232323,  3.33333333,  3.43434343,\n",
       "        3.53535354,  3.63636364,  3.73737374,  3.83838384,  3.93939394,\n",
       "        4.04040404,  4.14141414,  4.24242424,  4.34343434,  4.44444444,\n",
       "        4.54545455,  4.64646465,  4.74747475,  4.84848485,  4.94949495,\n",
       "        5.05050505,  5.15151515,  5.25252525,  5.35353535,  5.45454545,\n",
       "        5.55555556,  5.65656566,  5.75757576,  5.85858586,  5.95959596,\n",
       "        6.06060606,  6.16161616,  6.26262626,  6.36363636,  6.46464646,\n",
       "        6.56565657,  6.66666667,  6.76767677,  6.86868687,  6.96969697,\n",
       "        7.07070707,  7.17171717,  7.27272727,  7.37373737,  7.47474747,\n",
       "        7.57575758,  7.67676768,  7.77777778,  7.87878788,  7.97979798,\n",
       "        8.08080808,  8.18181818,  8.28282828,  8.38383838,  8.48484848,\n",
       "        8.58585859,  8.68686869,  8.78787879,  8.88888889,  8.98989899,\n",
       "        9.09090909,  9.19191919,  9.29292929,  9.39393939,  9.49494949,\n",
       "        9.5959596 ,  9.6969697 ,  9.7979798 ,  9.8989899 , 10.        ])"
      ]
     },
     "execution_count": 57,
     "metadata": {},
     "output_type": "execute_result"
    }
   ],
   "source": [
    "array = np.linspace(0,10,100)\n",
    "\n",
    "array"
   ]
  },
  {
   "cell_type": "markdown",
   "metadata": {},
   "source": [
    "### np.eye()\n",
    "\n",
    "Crea una matriz identidad con la dimensión indicada\n"
   ]
  },
  {
   "cell_type": "code",
   "execution_count": 58,
   "metadata": {},
   "outputs": [
    {
     "data": {
      "text/plain": [
       "array([[1., 0., 0., 0., 0.],\n",
       "       [0., 1., 0., 0., 0.],\n",
       "       [0., 0., 1., 0., 0.],\n",
       "       [0., 0., 0., 1., 0.],\n",
       "       [0., 0., 0., 0., 1.]])"
      ]
     },
     "execution_count": 58,
     "metadata": {},
     "output_type": "execute_result"
    }
   ],
   "source": [
    "array = np.eye(5)\n",
    "array"
   ]
  },
  {
   "cell_type": "markdown",
   "metadata": {},
   "source": [
    "### np.empty()\n",
    "\n",
    "Por medio de la fucion `np.empty()` se crea un array vacio listo para ser poblado con datos"
   ]
  },
  {
   "cell_type": "code",
   "execution_count": 25,
   "metadata": {},
   "outputs": [
    {
     "name": "stdout",
     "output_type": "stream",
     "text": [
      "[[4.65022419e-310 0.00000000e+000 4.65125095e-310]\n",
      " [4.65120257e-310 4.65125095e-310 4.05133830e-322]]\n"
     ]
    }
   ],
   "source": [
    "voice_array = np.empty((2,3))\n",
    "print(voice_array)\n",
    "\n",
    "#Hay que notar que los resultados de ejecutar a esta función son aproximadamente cero en todas las ubicaciones del array"
   ]
  },
  {
   "cell_type": "markdown",
   "metadata": {},
   "source": [
    "### np.ranmdom.rand()\n",
    "\n",
    "Se crea elementos con numeros aleatorios con las dimensiones indicadas"
   ]
  },
  {
   "cell_type": "code",
   "execution_count": 60,
   "metadata": {},
   "outputs": [
    {
     "name": "stdout",
     "output_type": "stream",
     "text": [
      "0.7812509180079921\n",
      "[0.37580598 0.13734407 0.64869099 0.8648675 ]\n"
     ]
    }
   ],
   "source": [
    "print(np.random.rand())\n",
    "print(np.random.rand(4))"
   ]
  },
  {
   "cell_type": "markdown",
   "metadata": {},
   "source": [
    "### np.ramdon.randint(inicio, fin, [estructura])\n",
    "\n",
    "Crea elementos aleatorios de tipo entero\n"
   ]
  },
  {
   "cell_type": "code",
   "execution_count": 62,
   "metadata": {},
   "outputs": [
    {
     "name": "stdout",
     "output_type": "stream",
     "text": [
      "6\n",
      "[[31 65 33 26  3 29 48 95 11 26]\n",
      " [17 61 62 63 48 83 86 96 30 59]\n",
      " [51  3 51 72 92 18 10 61 29  1]\n",
      " [18 29 64 53  2 31 48 99  8 67]\n",
      " [94 92 30 77 26 72 10 41 74 84]\n",
      " [67 24 56 31 50 72  2 34 32 22]\n",
      " [90 44 74 36 28 55 81  3 77 68]\n",
      " [21 67 78 90 64 71 66 82 85 22]\n",
      " [92  8  7 25 26  1  7 30 30 21]\n",
      " [12 43 99 49 54  7 54 47 71 70]]\n"
     ]
    }
   ],
   "source": [
    "print(np.random.randint(1, 10))\n",
    "print(np.random.randint(1, 100, (10,10)))\n"
   ]
  },
  {
   "cell_type": "markdown",
   "metadata": {},
   "source": [
    "### **Matrices**\n",
    "\n",
    "Para el caso de matrices y elementos multidimencionales es posible juntando distintas listas o arrays dentro de un array\n",
    "\n"
   ]
  },
  {
   "cell_type": "code",
   "execution_count": 7,
   "metadata": {},
   "outputs": [
    {
     "name": "stdout",
     "output_type": "stream",
     "text": [
      "[[1 2 3]\n",
      " [4 5 6]\n",
      " [7 8 9]]\n"
     ]
    }
   ],
   "source": [
    "matriz = np.array([[1,2,3],[4,5,6],[7,8,9]])\n",
    "print(matriz)"
   ]
  },
  {
   "cell_type": "markdown",
   "metadata": {},
   "source": [
    "Para aceder a una determinada posicion de una matriz se realiza ingresando primero a la posicion de la fila deseada, y luego separado con coma (,) la posicion del elemento dentro de la fila deseado\n"
   ]
  },
  {
   "cell_type": "code",
   "execution_count": 12,
   "metadata": {},
   "outputs": [
    {
     "name": "stdout",
     "output_type": "stream",
     "text": [
      "el valor de la matriz en la posición 0, 2 es = 3\n",
      "el valor de la matriz en la posición 1, 1 es = 5\n",
      "8\n"
     ]
    }
   ],
   "source": [
    "valor_0_2 = matriz[0,2]\n",
    "print(f\"El valor de la matriz en la posición 0, 2 es = {valor_0_2}\")\n",
    "print(f\"El valor de la matriz en la posición 1, 1 es = {matriz[1,1]}\")\n",
    "print(valor_0_2 + matriz[1,1])"
   ]
  },
  {
   "cell_type": "markdown",
   "metadata": {},
   "source": [
    "## **Tipos de Datos**\n",
    "\n",
    "La bibliografia oficial se puede consultar en el recurso [data types de Numpy](https://numpy.org/doc/stable/user/basics.types.html)\n"
   ]
  },
  {
   "cell_type": "markdown",
   "metadata": {},
   "source": [
    "### dtype\n",
    "\n",
    "Por medio de la funcion `dtype` es posible identificar el tipo de datos que hay dentor de un array.\n",
    "\n",
    "por otro lado, cuando se define un array es posible definir desde la defnición misma del array el tipo de datos que debe tenr"
   ]
  },
  {
   "cell_type": "code",
   "execution_count": 19,
   "metadata": {},
   "outputs": [
    {
     "name": "stdout",
     "output_type": "stream",
     "text": [
      "int64\n"
     ]
    }
   ],
   "source": [
    "array2 = np.array([1,2,3,4,5])\n",
    "print(array2.dtype)"
   ]
  },
  {
   "cell_type": "code",
   "execution_count": 20,
   "metadata": {},
   "outputs": [
    {
     "name": "stdout",
     "output_type": "stream",
     "text": [
      "float64\n"
     ]
    }
   ],
   "source": [
    "array3 = np.array([1,2,3,4,5], dtype=\"float64\")\n",
    "print(array3.dtype)"
   ]
  },
  {
   "cell_type": "markdown",
   "metadata": {},
   "source": [
    "### np.astype() - Cambiar tipo de datos\n",
    "\n",
    "Por medio de la funcion astype es posible cambiar los tipos de datos de un array que se tenga"
   ]
  },
  {
   "cell_type": "code",
   "execution_count": 23,
   "metadata": {},
   "outputs": [
    {
     "name": "stdout",
     "output_type": "stream",
     "text": [
      "El array es de tipo: int64\n",
      "[ 1.  2.  3.  4.  5.  6.  7.  8.  9. 10.]\n",
      "float64\n"
     ]
    }
   ],
   "source": [
    "array4  = array.astype(np.float64)\n",
    "print(f\"El array es de tipo: {array.dtype}\")\n",
    "print(array4)\n",
    "print(array4.dtype)"
   ]
  },
  {
   "cell_type": "code",
   "execution_count": 26,
   "metadata": {},
   "outputs": [
    {
     "name": "stdout",
     "output_type": "stream",
     "text": [
      "[ True  True  True  True]\n",
      "El tipo de datos de array6 es bool\n",
      "[1 2 3 4]\n",
      "El tipo de datos de array7 es int64\n"
     ]
    }
   ],
   "source": [
    "array5 = np.array(['1','2','3','4'])\n",
    "array6 = array5.astype(np.bool_)\n",
    "print(array6)\n",
    "print(f\"El tipo de datos de array6 es {array6.dtype}\")  \n",
    "\n",
    "array7 = array5.astype(np.int64)\n",
    "print(array7)\n",
    "print(f\"El tipo de datos de array7 es {array7.dtype}\")  "
   ]
  },
  {
   "cell_type": "markdown",
   "metadata": {},
   "source": [
    "## **Dimensiones**\n",
    "\n",
    "Para Numpay existen cuatro tipos de datos segun su dimension, sin embaro permite elementos multi dimensionales de tamaño mayor a 3. Estos elementos o tipos de datos según su dimension son:\n",
    "\n",
    "|Nombre de dimensión | Valor|\n",
    "|--------------------|------|\n",
    "| Escalar | 0 |\n",
    "| Vector o Array | 1 |\n",
    "| Matriz | 2 |\n",
    "| Tensor | > 3 |\n",
    "\n"
   ]
  },
  {
   "cell_type": "markdown",
   "metadata": {},
   "source": [
    "### np.ndim: Informa la dimensión\n",
    "\n",
    "Con la función `.ndim`, es posible conocer la dimensión de un elemento\n"
   ]
  },
  {
   "cell_type": "code",
   "execution_count": 34,
   "metadata": {},
   "outputs": [
    {
     "name": "stdout",
     "output_type": "stream",
     "text": [
      "El objeto scalar ([5]) tiene 1 dimensiones\n",
      "El objeto array ([1 2 3 4]) tiene 1 dimensiones\n",
      "El objeto matriz: \n",
      " [[1 2]\n",
      " [3 4]] \n",
      "tiene 2 dimensiones\n",
      "El objeto tensor: \n",
      " [[[1 2]\n",
      "  [3 4]]\n",
      "\n",
      " [[5 6]\n",
      "  [7 8]]] \n",
      "tiene 3 dimensiones\n"
     ]
    }
   ],
   "source": [
    "scalar = np.array([5])\n",
    "array  =np.array([1,2,3,4])\n",
    "matriz = np.array([[1,2],[3,4]])\n",
    "tensor3 = np.array([[[1,2],[3,4]],[[5,6],[7,8]]])\n",
    "\n",
    "print(f\"El objeto scalar ({scalar}) tiene {scalar.ndim} dimensiones\")\n",
    "print(f\"El objeto array ({array}) tiene {array.ndim} dimensiones\")\n",
    "print(f\"El objeto matriz: \\n {matriz} \\ntiene {matriz.ndim} dimensiones\")\n",
    "print(f\"El objeto tensor: \\n {tensor3} \\ntiene {tensor3.ndim} dimensiones\")\n",
    "\n"
   ]
  },
  {
   "cell_type": "markdown",
   "metadata": {},
   "source": [
    "### Determinar las dimensiones de un elementos desde la definición\n",
    "\n",
    "Por medio de la definición `ndim` dentro de la decalaracion del elemento array puede declararce la dimension desde el inicio\n",
    "\n",
    "\n"
   ]
  },
  {
   "cell_type": "code",
   "execution_count": 35,
   "metadata": {},
   "outputs": [
    {
     "name": "stdout",
     "output_type": "stream",
     "text": [
      "El elemento tensor\n",
      " [[[[[[[[[[1 2 3]]]]]]]]]] \n",
      "tiene 10 dimensiones\n"
     ]
    }
   ],
   "source": [
    "tensor = np.array([1,2,3], ndmin=10)\n",
    "print(f\"El elemento tensor\\n {tensor} \\ntiene {tensor.ndim} dimensiones\")"
   ]
  },
  {
   "cell_type": "markdown",
   "metadata": {},
   "source": [
    "### np.expand_dims : Expandir dimensiones\n",
    "\n",
    "Con la funcion `.expan_dims` es posible expandir las dimensiones de un elemento en numpay"
   ]
  },
  {
   "cell_type": "code",
   "execution_count": 48,
   "metadata": {},
   "outputs": [
    {
     "name": "stdout",
     "output_type": "stream",
     "text": [
      "El elemento \n",
      " [1 2 3] \n",
      "tiene 1 dimensiones\n",
      "\n",
      "El elemento \n",
      " [[1]\n",
      " [2]\n",
      " [3]] \n",
      " se le expandio las dimensiones y ahora tiene 2 dimensiones\n"
     ]
    }
   ],
   "source": [
    "elemento = np.array([1,2,3])\n",
    "expansion = np.expand_dims(elemento, axis=1)\n",
    "print(f\"El elemento \\n {elemento} \\ntiene {elemento.ndim} dimensiones\\n\")\n",
    "print(f\"El elemento \\n {expansion} \\n se le expandio las dimensiones y ahora tiene {expansion.ndim} dimensiones\")\n"
   ]
  },
  {
   "cell_type": "markdown",
   "metadata": {},
   "source": [
    "### np.squeeze: Comprimir las dimensiones\n",
    "\n",
    "Con la funcion `np.squeeze` se comprime el elemnto a las dimensiones que realmente esten ocupadas"
   ]
  },
  {
   "cell_type": "code",
   "execution_count": 49,
   "metadata": {},
   "outputs": [
    {
     "name": "stdout",
     "output_type": "stream",
     "text": [
      "El elemento \n",
      " [[1]\n",
      " [2]\n",
      " [3]] \n",
      "tiene 2 dimensiones\n",
      "\n",
      "El elemento \n",
      " [1 2 3] \n",
      " se le comprimio las dimensiones y ahora tiene 1 dimensiones\n"
     ]
    }
   ],
   "source": [
    "print(f\"El elemento \\n {expansion} \\ntiene {expansion.ndim} dimensiones\\n\")\n",
    "\n",
    "compresion  = np.squeeze(expansion)\n",
    "\n",
    "print(f\"El elemento \\n {compresion} \\n se le comprimio las dimensiones y ahora tiene {compresion.ndim} dimensiones\")\n",
    "\n"
   ]
  },
  {
   "cell_type": "markdown",
   "metadata": {},
   "source": [
    "## Informacion y cambio de forma de arreglos"
   ]
  },
  {
   "cell_type": "markdown",
   "metadata": {},
   "source": [
    "### np.shape()\n",
    "\n",
    "Da informacion para conocer datos del arreglo y las formas en que se puede manipular"
   ]
  },
  {
   "cell_type": "code",
   "execution_count": 64,
   "metadata": {},
   "outputs": [
    {
     "name": "stdout",
     "output_type": "stream",
     "text": [
      "[[4 7 5]\n",
      " [9 9 5]\n",
      " [9 1 9]]\n"
     ]
    },
    {
     "data": {
      "text/plain": [
       "(3, 3)"
      ]
     },
     "execution_count": 64,
     "metadata": {},
     "output_type": "execute_result"
    }
   ],
   "source": [
    "array = np.random.randint(1, 10,(5,3))\n",
    "print(array)\n",
    "array.shape # se conoce las dimenciones del arreglo"
   ]
  },
  {
   "cell_type": "markdown",
   "metadata": {},
   "source": [
    "### reshape()\n",
    "\n",
    "Pasa de una estructura con unas dimensiones finales"
   ]
  },
  {
   "cell_type": "code",
   "execution_count": 67,
   "metadata": {},
   "outputs": [
    {
     "data": {
      "text/plain": [
       "array([[4, 7, 5],\n",
       "       [9, 9, 5],\n",
       "       [9, 1, 9]])"
      ]
     },
     "execution_count": 67,
     "metadata": {},
     "output_type": "execute_result"
    }
   ],
   "source": [
    "array.reshape(1,9)\n"
   ]
  },
  {
   "cell_type": "code",
   "execution_count": 69,
   "metadata": {},
   "outputs": [
    {
     "data": {
      "text/plain": [
       "array([[4, 7, 5, 9, 9, 5, 9, 1, 9]])"
      ]
     },
     "execution_count": 69,
     "metadata": {},
     "output_type": "execute_result"
    }
   ],
   "source": [
    "np.reshape(array, (1,9), \"c\")\n",
    "\n",
    "# Reorganiza el arreglo segun el lenguaje c"
   ]
  },
  {
   "cell_type": "code",
   "execution_count": 70,
   "metadata": {},
   "outputs": [
    {
     "data": {
      "text/plain": [
       "array([[4, 9, 9, 7, 9, 1, 5, 5, 9]])"
      ]
     },
     "execution_count": 70,
     "metadata": {},
     "output_type": "execute_result"
    }
   ],
   "source": [
    "np.reshape(array, (1,9), \"f\")\n",
    "\n",
    "# Reorganiza el arreglo segun el lenguaje fortran"
   ]
  },
  {
   "cell_type": "markdown",
   "metadata": {},
   "source": [
    "## Funciones principales\n",
    "\n",
    "La potencia de numpy se destaca en el calculo matematico, En este sentido las principales funciones de numpy estan orientadas a la utilizacion de matematicas y estadistica"
   ]
  },
  {
   "cell_type": "code",
   "execution_count": 3,
   "metadata": {},
   "outputs": [
    {
     "name": "stdout",
     "output_type": "stream",
     "text": [
      "[10 17 19  4 16  7  7 10 16  3]\n",
      "[[10 17]\n",
      " [19  4]\n",
      " [16  7]\n",
      " [ 7 10]\n",
      " [16  3]]\n"
     ]
    }
   ],
   "source": [
    "\n",
    "array = np.random.randint(1, 20, 10)\n",
    "matriz = array.reshape(5,2)\n",
    "\n",
    "print(array)\n",
    "print(matriz)"
   ]
  },
  {
   "cell_type": "markdown",
   "metadata": {},
   "source": [
    "### Funciones Matematicas\n",
    "\n",
    "Para mas informacion consultar [Funciones matematicas](https://numpy.org/doc/stable/reference/routines.math.html)"
   ]
  },
  {
   "cell_type": "markdown",
   "metadata": {},
   "source": [
    "#### .max() y .min()\n",
    "retorna valores maximos"
   ]
  },
  {
   "cell_type": "code",
   "execution_count": 4,
   "metadata": {},
   "outputs": [
    {
     "name": "stdout",
     "output_type": "stream",
     "text": [
      "19\n",
      "3\n",
      "[17 19 16 10 16]\n",
      "[7 3]\n"
     ]
    }
   ],
   "source": [
    "# Retorna el valor maximo del elemento\n",
    "print(array.max())\n",
    "\n",
    "# Retorna el valor minimo del elemento\n",
    "print(array.min())\n",
    "\n",
    "# Retorna los valores maximos en cada columan\n",
    "print(matriz.max(1))\n",
    "\n",
    "\n",
    "# Retorna los valores minimos en cada fila\n",
    "print(matriz.min(0))"
   ]
  },
  {
   "cell_type": "markdown",
   "metadata": {},
   "source": [
    "#### np.argmax() y np.argmin()\n",
    "Retorna las posiciones de las consultas maximos y minimos"
   ]
  },
  {
   "cell_type": "code",
   "execution_count": 84,
   "metadata": {},
   "outputs": [
    {
     "name": "stdout",
     "output_type": "stream",
     "text": [
      "[ 2  3 12 17 18 16  6  6  7 18] \n",
      "\n",
      "4 \n",
      "\n",
      "0 \n",
      "\n",
      "[[ 2  3]\n",
      " [12 17]\n",
      " [18 16]\n",
      " [ 6  6]\n",
      " [ 7 18]] \n",
      "\n",
      "[1 1 0 0 1] \n",
      "\n",
      "[0 0] \n",
      "\n"
     ]
    }
   ],
   "source": [
    "print(array, \"\\n\")\n",
    "\n",
    "# Retorna la posición del maximo del elemento\n",
    "print(array.argmax(), \"\\n\")\n",
    "\n",
    "# Retorna la posición del minimo del elemento\n",
    "print(array.argmin(), \"\\n\")\n",
    "\n",
    "\n",
    "print(matriz, \"\\n\")\n",
    "# Retorna la posición de los valores maximos en cada columan\n",
    "print(matriz.argmax(1), \"\\n\")\n",
    "\n",
    "\n",
    "# Retorna la posición de los valores minimos en cada fila\n",
    "print(matriz.argmin(0), \"\\n\")"
   ]
  },
  {
   "cell_type": "markdown",
   "metadata": {},
   "source": [
    "#### .ptp()\n",
    "\n",
    "Muestra la distancia entre el valor mas pequeño y el valos mas alto del elemento"
   ]
  },
  {
   "cell_type": "code",
   "execution_count": 87,
   "metadata": {},
   "outputs": [
    {
     "name": "stdout",
     "output_type": "stream",
     "text": [
      "[ 2  3 12 17 18 16  6  6  7 18] \n",
      "\n",
      "16\n",
      "La funcion ptp calcula: max(array) - min(array) = 18 - 2 = 16 \n"
     ]
    }
   ],
   "source": [
    "print(array, \"\\n\")\n",
    "\n",
    "print(array.ptp())\n",
    "\n",
    "print(f\"La funcion ptp calcula: max(array) - min(array) = {array.max()} - {array.min()} = {array.ptp()} \")\n",
    "\n"
   ]
  },
  {
   "cell_type": "markdown",
   "metadata": {},
   "source": [
    "### Funciones de Estadistica"
   ]
  },
  {
   "cell_type": "markdown",
   "metadata": {},
   "source": [
    "#### np.percentile(arr, p)\n",
    "\n",
    "Calcula el percentil p del arreglo arr\n",
    "\n",
    "\n",
    "\n"
   ]
  },
  {
   "cell_type": "code",
   "execution_count": 16,
   "metadata": {},
   "outputs": [
    {
     "name": "stdout",
     "output_type": "stream",
     "text": [
      "[ 4 17  1 16  8 15  8 12 16  3]\n",
      "10.0\n"
     ]
    }
   ],
   "source": [
    "print(array)\n",
    "print(np.percentile(array,50))"
   ]
  },
  {
   "cell_type": "markdown",
   "metadata": {},
   "source": [
    "#### sort()\n",
    "\n",
    "Al igual que con las listas de python, con sort se ordenan de menor a mayor datos numerios de un arreglo"
   ]
  },
  {
   "cell_type": "code",
   "execution_count": 17,
   "metadata": {},
   "outputs": [
    {
     "name": "stdout",
     "output_type": "stream",
     "text": [
      "[ 4 17  1 16  8 15  8 12 16  3]\n",
      "[ 1  3  4  8  8 12 15 16 16 17]\n"
     ]
    }
   ],
   "source": [
    "print(array)\n",
    "array.sort()\n",
    "print(array)"
   ]
  },
  {
   "cell_type": "markdown",
   "metadata": {},
   "source": [
    "#### np.median()\n",
    "\n",
    "Calcula la mediana de un arreglo"
   ]
  },
  {
   "cell_type": "code",
   "execution_count": 19,
   "metadata": {},
   "outputs": [
    {
     "name": "stdout",
     "output_type": "stream",
     "text": [
      "10.0\n"
     ]
    }
   ],
   "source": [
    "print(np.median(array))"
   ]
  },
  {
   "cell_type": "markdown",
   "metadata": {},
   "source": [
    "#### np.std()\n",
    "\n",
    "Retorna la desviacion estandar de un arreglo\n"
   ]
  },
  {
   "cell_type": "code",
   "execution_count": 21,
   "metadata": {},
   "outputs": [
    {
     "name": "stdout",
     "output_type": "stream",
     "text": [
      "5.692099788303083\n"
     ]
    }
   ],
   "source": [
    "print(np.std(array))"
   ]
  },
  {
   "cell_type": "markdown",
   "metadata": {},
   "source": [
    "#### np.var()\n",
    "\n",
    "Calcula la varianza de un arreglo"
   ]
  },
  {
   "cell_type": "code",
   "execution_count": 22,
   "metadata": {},
   "outputs": [
    {
     "name": "stdout",
     "output_type": "stream",
     "text": [
      "32.4\n"
     ]
    }
   ],
   "source": [
    "print(np.var(array))"
   ]
  },
  {
   "cell_type": "markdown",
   "metadata": {},
   "source": [
    "## **Aritmetica con NumPy**\n",
    "\n",
    "La aritmetica con NumPy trabaja de elemento en elemento del Array, de tal forma que al aplicar una determinada función al array, la función se aplica a todos los elementos del array.\n",
    "\n",
    "\n",
    "\n"
   ]
  },
  {
   "cell_type": "code",
   "execution_count": 5,
   "metadata": {},
   "outputs": [
    {
     "name": "stdout",
     "output_type": "stream",
     "text": [
      "[56 19 35 24 13 48 83 77 50 89 20  2 65 88 32]\n"
     ]
    }
   ],
   "source": [
    "arr = np.random.randint(1,100,15)\n",
    "print(arr)"
   ]
  },
  {
   "cell_type": "markdown",
   "metadata": {},
   "source": [
    "### Operaciones con escalares\n",
    "\n",
    "Las operaciones con escalares propagan el argumento y la operacion descrita a cada elemento del array"
   ]
  },
  {
   "cell_type": "markdown",
   "metadata": {},
   "source": [
    "#### Suma de una constante"
   ]
  },
  {
   "cell_type": "code",
   "execution_count": 6,
   "metadata": {},
   "outputs": [
    {
     "name": "stdout",
     "output_type": "stream",
     "text": [
      "[61 24 40 29 18 53 88 82 55 94 25  7 70 93 37]\n",
      "[46  9 25 14  3 38 73 67 40 79 10 -8 55 78 22]\n",
      "[-41  -4 -20  -9   2 -33 -68 -62 -35 -74  -5  13 -50 -73 -17]\n"
     ]
    }
   ],
   "source": [
    "print(arr +5)\n",
    "print(arr -10)\n",
    "print(15-arr)"
   ]
  },
  {
   "cell_type": "markdown",
   "metadata": {},
   "source": [
    "#### Multiplicacion de una constante"
   ]
  },
  {
   "cell_type": "code",
   "execution_count": 36,
   "metadata": {},
   "outputs": [
    {
     "name": "stdout",
     "output_type": "stream",
     "text": [
      "[158 132  68 192 150  80 180 160  92  12 136   6  14  58  42]\n",
      "[0.01265823 0.01515152 0.02941176 0.01041667 0.01333333 0.025\n",
      " 0.01111111 0.0125     0.02173913 0.16666667 0.01470588 0.33333333\n",
      " 0.14285714 0.03448276 0.04761905]\n",
      "[ 9.875  8.25   4.25  12.     9.375  5.    11.25  10.     5.75   0.75\n",
      "  8.5    0.375  0.875  3.625  2.625]\n",
      "[ 9.875  8.25   4.25  12.     9.375  5.    11.25  10.     5.75   0.75\n",
      "  8.5    0.375  0.875  3.625  2.625]\n"
     ]
    }
   ],
   "source": [
    "print(2*arr)\n",
    "print(1/arr)\n",
    "print(arr/8)\n",
    "print(1/8*arr)"
   ]
  },
  {
   "cell_type": "markdown",
   "metadata": {},
   "source": [
    "### Operaciones entre Array del mismo tamaño\n",
    "\n",
    "Cualquier operacion entre arrays del mismo tamaño se aplica de elemento a elemento"
   ]
  },
  {
   "cell_type": "code",
   "execution_count": 51,
   "metadata": {},
   "outputs": [
    {
     "name": "stdout",
     "output_type": "stream",
     "text": [
      "[[9 4 9 3 1]\n",
      " [2 9 7 3 6]\n",
      " [9 6 2 5 1]]\n",
      "\n",
      "\n",
      "[[1 1 6 9 8]\n",
      " [6 9 2 6 1]\n",
      " [9 3 4 1 4]]\n"
     ]
    }
   ],
   "source": [
    "matriz1  = np.random.randint(1,10,(3,5) )\n",
    "matriz2  = np.random.randint(1,10,(3,5) )\n",
    "print(matriz1)\n",
    "print(\"\\n\")\n",
    "print(matriz2)"
   ]
  },
  {
   "cell_type": "markdown",
   "metadata": {},
   "source": [
    "#### Suma entre matrices"
   ]
  },
  {
   "cell_type": "code",
   "execution_count": 43,
   "metadata": {},
   "outputs": [
    {
     "name": "stdout",
     "output_type": "stream",
     "text": [
      "[[ 7  9 10 14  8]\n",
      " [13  7 17 14 15]\n",
      " [ 9  6  5 12 11]]\n"
     ]
    }
   ],
   "source": [
    "print(matriz1 + matriz2)"
   ]
  },
  {
   "cell_type": "markdown",
   "metadata": {},
   "source": [
    "#### Producto entre matrices"
   ]
  },
  {
   "cell_type": "code",
   "execution_count": 53,
   "metadata": {},
   "outputs": [
    {
     "name": "stdout",
     "output_type": "stream",
     "text": [
      "[[102 127 136]\n",
      " [128 131 100]\n",
      " [ 80 143 116]]\n"
     ]
    }
   ],
   "source": [
    "print(np.matmul(matriz1, matriz2.T))"
   ]
  },
  {
   "cell_type": "code",
   "execution_count": 54,
   "metadata": {},
   "outputs": [
    {
     "name": "stdout",
     "output_type": "stream",
     "text": [
      "[[102 127 136]\n",
      " [128 131 100]\n",
      " [ 80 143 116]]\n"
     ]
    }
   ],
   "source": [
    "print(matriz1 @ matriz2.T)"
   ]
  },
  {
   "cell_type": "markdown",
   "metadata": {},
   "source": [
    "#### Transpuesta de una matriz"
   ]
  },
  {
   "cell_type": "code",
   "execution_count": 15,
   "metadata": {},
   "outputs": [
    {
     "name": "stdout",
     "output_type": "stream",
     "text": [
      "[[5 4 6 3 2]\n",
      " [4 3 2 8 6]\n",
      " [4 3 8 3 5]] \n",
      "\n",
      "[[5 4 4]\n",
      " [4 3 3]\n",
      " [6 2 8]\n",
      " [3 8 3]\n",
      " [2 6 5]]\n"
     ]
    }
   ],
   "source": [
    "A = np.random.randint(1,10,(3,5))\n",
    "print(A,'\\n')\n",
    "print(A.T)"
   ]
  },
  {
   "cell_type": "markdown",
   "metadata": {},
   "source": [
    "#### Compáraciones entre matrices"
   ]
  },
  {
   "cell_type": "code",
   "execution_count": 46,
   "metadata": {},
   "outputs": [
    {
     "name": "stdout",
     "output_type": "stream",
     "text": [
      "[[ True  True  True False False]\n",
      " [ True  True  True False  True]\n",
      " [False  True False False  True]] \n",
      "\n",
      "[[False False False False  True]\n",
      " [False False False False False]\n",
      " [False False False False False]]\n"
     ]
    }
   ],
   "source": [
    "print(matriz1 > matriz2, '\\n')\n",
    "\n",
    "print(matriz1 == matriz2)"
   ]
  },
  {
   "cell_type": "markdown",
   "metadata": {},
   "source": [
    "### Concatenación\n",
    "Permite unir dos elementos de bunoy, sienopre y cuando sean compatibles en sus dimensiones"
   ]
  },
  {
   "cell_type": "code",
   "execution_count": 12,
   "metadata": {},
   "outputs": [
    {
     "name": "stdout",
     "output_type": "stream",
     "text": [
      "[[1 2]\n",
      " [3 4]\n",
      " [5 6]\n",
      " [7 8]]\n",
      "\n",
      "\n",
      "[[1 2 5 6]\n",
      " [3 4 7 8]]\n"
     ]
    }
   ],
   "source": [
    "a = np.array([[1,2],[3,4]])\n",
    "b = np.array([[5,6],[7,8]])\n",
    "\n",
    "c = np.concatenate((a,b), axis=0)\n",
    "d = np.concatenate((a,b), axis=1)\n",
    "\n",
    "print(c)\n",
    "print(\"\\n\")\n",
    "print(d)"
   ]
  },
  {
   "cell_type": "markdown",
   "metadata": {},
   "source": [
    "## **Función copy**\n",
    " En Python para trabajar con copias de un elemento y desvinculardo de un objeto padre es necesario realizar una copia explicita mediante la función copy\n"
   ]
  },
  {
   "cell_type": "code",
   "execution_count": 24,
   "metadata": {},
   "outputs": [
    {
     "data": {
      "text/plain": [
       "array([ 0,  1,  2,  3,  4,  5,  6,  7,  8,  9, 10])"
      ]
     },
     "execution_count": 24,
     "metadata": {},
     "output_type": "execute_result"
    }
   ],
   "source": [
    "arr = np.arange(0,11)\n",
    "arr\n"
   ]
  },
  {
   "cell_type": "markdown",
   "metadata": {},
   "source": [
    "En el siguiente ejemplo se define trozo_arr como una parte de arr, sin embargo trozo_arr sigue vinculado al arreglo padre, para evitar esto, es necesario realizar una copia mediante la función copy"
   ]
  },
  {
   "cell_type": "code",
   "execution_count": 29,
   "metadata": {},
   "outputs": [
    {
     "name": "stdout",
     "output_type": "stream",
     "text": [
      "[0 0 0 0 0 0]\n",
      "[ 0  0  0  0  0  0  6  7  8  9 10]\n",
      "[1 1 1 1 1 1]\n",
      "[ 1  1  1  1  1  1  6  7  8  9 10]\n"
     ]
    }
   ],
   "source": [
    "trozo_arr = arr[0:6]\n",
    "arr_copy = arr.copy()\n",
    "trozo_copy = arr_copy[0:6]\n",
    "trozo_arr[:]=0\n",
    "trozo_copy[:]=1\n",
    "print(trozo_arr)\n",
    "print(arr)\n",
    "print(trozo_copy)\n",
    "print(arr_copy)"
   ]
  },
  {
   "cell_type": "markdown",
   "metadata": {},
   "source": [
    "La razon de la función copy, es que por medio de esta función realiza una copia del elemento y lo guardo en una posición diferentyes en memoria"
   ]
  },
  {
   "cell_type": "markdown",
   "metadata": {},
   "source": [
    "## Condiciones de consultas\n",
    "\n",
    "Por medio de las condiciones definidas en numpy, es posible filtrar los datos de forma tan especifica que los datos deseados cumplan determinadas condiciones.\n",
    "\n",
    "Para este caso, Numpy va muy por delante del tipico slicing de tal forma que la condición va dentro de los corchetes cuadrados cuando se quiere estrar datos de un elemento de numpy."
   ]
  },
  {
   "cell_type": "code",
   "execution_count": 32,
   "metadata": {},
   "outputs": [
    {
     "data": {
      "text/plain": [
       "array([ 1,  2,  3,  4,  5,  6,  7,  8,  9, 10], dtype=int8)"
      ]
     },
     "execution_count": 32,
     "metadata": {},
     "output_type": "execute_result"
    }
   ],
   "source": [
    "arr = np.linspace(1,10,10, dtype=\"int8\")\n",
    "arr"
   ]
  },
  {
   "cell_type": "code",
   "execution_count": 35,
   "metadata": {},
   "outputs": [
    {
     "data": {
      "text/plain": [
       "array([ 6,  7,  8,  9, 10], dtype=int8)"
      ]
     },
     "execution_count": 35,
     "metadata": {},
     "output_type": "execute_result"
    }
   ],
   "source": [
    "indices_cond = arr >5\n",
    "arr[indices_cond]"
   ]
  },
  {
   "cell_type": "code",
   "execution_count": 38,
   "metadata": {},
   "outputs": [
    {
     "data": {
      "text/plain": [
       "array([6, 7, 8], dtype=int8)"
      ]
     },
     "execution_count": 38,
     "metadata": {},
     "output_type": "execute_result"
    }
   ],
   "source": [
    "arr[(arr>5) & (arr<9)]"
   ]
  },
  {
   "cell_type": "code",
   "execution_count": 40,
   "metadata": {},
   "outputs": [
    {
     "data": {
      "text/plain": [
       "array([ 1,  2,  3,  4,  5, 99, 99, 99, 99, 99], dtype=int8)"
      ]
     },
     "execution_count": 40,
     "metadata": {},
     "output_type": "execute_result"
    }
   ],
   "source": [
    "arr[arr>5] = 99\n",
    "arr"
   ]
  },
  {
   "cell_type": "markdown",
   "metadata": {},
   "source": [
    "## **Operaciones**\n",
    "\n"
   ]
  },
  {
   "cell_type": "code",
   "execution_count": 46,
   "metadata": {},
   "outputs": [
    {
     "data": {
      "text/plain": [
       "[0, 1, 2, 3, 4, 5, 6, 7, 8, 9, 0, 1, 2, 3, 4, 5, 6, 7, 8, 9]"
      ]
     },
     "execution_count": 46,
     "metadata": {},
     "output_type": "execute_result"
    }
   ],
   "source": [
    "lista = list(range(0,10))\n",
    "lista * 2"
   ]
  },
  {
   "cell_type": "code",
   "execution_count": 42,
   "metadata": {},
   "outputs": [],
   "source": [
    "arr = np.arange(0,10)\n",
    "arr2 = arr.copy()"
   ]
  },
  {
   "cell_type": "code",
   "execution_count": 43,
   "metadata": {},
   "outputs": [
    {
     "data": {
      "text/plain": [
       "array([0, 1, 2, 3, 4, 5, 6, 7, 8, 9])"
      ]
     },
     "execution_count": 43,
     "metadata": {},
     "output_type": "execute_result"
    }
   ],
   "source": [
    "arr"
   ]
  },
  {
   "cell_type": "code",
   "execution_count": 44,
   "metadata": {},
   "outputs": [
    {
     "data": {
      "text/plain": [
       "array([ 0,  2,  4,  6,  8, 10, 12, 14, 16, 18])"
      ]
     },
     "execution_count": 44,
     "metadata": {},
     "output_type": "execute_result"
    }
   ],
   "source": [
    "arr*2"
   ]
  },
  {
   "cell_type": "code",
   "execution_count": 47,
   "metadata": {},
   "outputs": [
    {
     "name": "stderr",
     "output_type": "stream",
     "text": [
      "/tmp/ipykernel_1212/255282349.py:1: RuntimeWarning: divide by zero encountered in divide\n",
      "  1/arr\n"
     ]
    },
    {
     "data": {
      "text/plain": [
       "array([       inf, 1.        , 0.5       , 0.33333333, 0.25      ,\n",
       "       0.2       , 0.16666667, 0.14285714, 0.125     , 0.11111111])"
      ]
     },
     "execution_count": 47,
     "metadata": {},
     "output_type": "execute_result"
    }
   ],
   "source": [
    "1/arr"
   ]
  },
  {
   "cell_type": "code",
   "execution_count": 48,
   "metadata": {},
   "outputs": [
    {
     "data": {
      "text/plain": [
       "array([ 0,  1,  4,  9, 16, 25, 36, 49, 64, 81])"
      ]
     },
     "execution_count": 48,
     "metadata": {},
     "output_type": "execute_result"
    }
   ],
   "source": [
    "arr**2"
   ]
  },
  {
   "cell_type": "code",
   "execution_count": 49,
   "metadata": {},
   "outputs": [
    {
     "data": {
      "text/plain": [
       "array([ 0,  2,  4,  6,  8, 10, 12, 14, 16, 18])"
      ]
     },
     "execution_count": 49,
     "metadata": {},
     "output_type": "execute_result"
    }
   ],
   "source": [
    "arr + arr2"
   ]
  },
  {
   "cell_type": "code",
   "execution_count": 50,
   "metadata": {},
   "outputs": [
    {
     "data": {
      "text/plain": [
       "array([ 0,  1,  4,  9, 16, 25, 36, 49, 64, 81])"
      ]
     },
     "execution_count": 50,
     "metadata": {},
     "output_type": "execute_result"
    }
   ],
   "source": [
    "arr * arr2"
   ]
  },
  {
   "cell_type": "code",
   "execution_count": null,
   "metadata": {},
   "outputs": [],
   "source": []
  }
 ],
 "metadata": {
  "kernelspec": {
   "display_name": "env",
   "language": "python",
   "name": "python3"
  },
  "language_info": {
   "codemirror_mode": {
    "name": "ipython",
    "version": 3
   },
   "file_extension": ".py",
   "mimetype": "text/x-python",
   "name": "python",
   "nbconvert_exporter": "python",
   "pygments_lexer": "ipython3",
   "version": "3.10.12"
  }
 },
 "nbformat": 4,
 "nbformat_minor": 2
}
